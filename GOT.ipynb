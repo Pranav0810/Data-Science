{
  "nbformat": 4,
  "nbformat_minor": 0,
  "metadata": {
    "colab": {
      "name": "GOT.ipynb",
      "provenance": []
    },
    "kernelspec": {
      "name": "python3",
      "display_name": "Python 3"
    },
    "language_info": {
      "name": "python"
    }
  },
  "cells": [
    {
      "cell_type": "code",
      "metadata": {
        "id": "AxXipvM9b5kU"
      },
      "source": [
        "import pandas as pd\n",
        "import numpy as np "
      ],
      "execution_count": null,
      "outputs": []
    },
    {
      "cell_type": "code",
      "metadata": {
        "id": "H5uZdei6cyzQ"
      },
      "source": [
        "battle=pd.read_csv('battles.csv')"
      ],
      "execution_count": null,
      "outputs": []
    },
    {
      "cell_type": "code",
      "metadata": {
        "colab": {
          "base_uri": "https://localhost:8080/",
          "height": 411
        },
        "id": "Zn3ljF4xde58",
        "outputId": "23ff865c-713c-403f-a856-03079096e344"
      },
      "source": [
        "battle.head()"
      ],
      "execution_count": null,
      "outputs": [
        {
          "output_type": "execute_result",
          "data": {
            "text/html": [
              "<div>\n",
              "<style scoped>\n",
              "    .dataframe tbody tr th:only-of-type {\n",
              "        vertical-align: middle;\n",
              "    }\n",
              "\n",
              "    .dataframe tbody tr th {\n",
              "        vertical-align: top;\n",
              "    }\n",
              "\n",
              "    .dataframe thead th {\n",
              "        text-align: right;\n",
              "    }\n",
              "</style>\n",
              "<table border=\"1\" class=\"dataframe\">\n",
              "  <thead>\n",
              "    <tr style=\"text-align: right;\">\n",
              "      <th></th>\n",
              "      <th>name</th>\n",
              "      <th>year</th>\n",
              "      <th>battle_number</th>\n",
              "      <th>attacker_king</th>\n",
              "      <th>defender_king</th>\n",
              "      <th>attacker_1</th>\n",
              "      <th>attacker_2</th>\n",
              "      <th>attacker_3</th>\n",
              "      <th>attacker_4</th>\n",
              "      <th>defender_1</th>\n",
              "      <th>defender_2</th>\n",
              "      <th>defender_3</th>\n",
              "      <th>defender_4</th>\n",
              "      <th>attacker_outcome</th>\n",
              "      <th>battle_type</th>\n",
              "      <th>major_death</th>\n",
              "      <th>major_capture</th>\n",
              "      <th>attacker_size</th>\n",
              "      <th>defender_size</th>\n",
              "      <th>attacker_commander</th>\n",
              "      <th>defender_commander</th>\n",
              "      <th>summer</th>\n",
              "      <th>location</th>\n",
              "      <th>region</th>\n",
              "      <th>note</th>\n",
              "    </tr>\n",
              "  </thead>\n",
              "  <tbody>\n",
              "    <tr>\n",
              "      <th>0</th>\n",
              "      <td>Battle of the Golden Tooth</td>\n",
              "      <td>298</td>\n",
              "      <td>1</td>\n",
              "      <td>Joffrey/Tommen Baratheon</td>\n",
              "      <td>Robb Stark</td>\n",
              "      <td>Lannister</td>\n",
              "      <td>NaN</td>\n",
              "      <td>NaN</td>\n",
              "      <td>NaN</td>\n",
              "      <td>Tully</td>\n",
              "      <td>NaN</td>\n",
              "      <td>NaN</td>\n",
              "      <td>NaN</td>\n",
              "      <td>win</td>\n",
              "      <td>pitched battle</td>\n",
              "      <td>1.0</td>\n",
              "      <td>0.0</td>\n",
              "      <td>15000.0</td>\n",
              "      <td>4000.0</td>\n",
              "      <td>Jaime Lannister</td>\n",
              "      <td>Clement Piper, Vance</td>\n",
              "      <td>1.0</td>\n",
              "      <td>Golden Tooth</td>\n",
              "      <td>The Westerlands</td>\n",
              "      <td>NaN</td>\n",
              "    </tr>\n",
              "    <tr>\n",
              "      <th>1</th>\n",
              "      <td>Battle at the Mummer's Ford</td>\n",
              "      <td>298</td>\n",
              "      <td>2</td>\n",
              "      <td>Joffrey/Tommen Baratheon</td>\n",
              "      <td>Robb Stark</td>\n",
              "      <td>Lannister</td>\n",
              "      <td>NaN</td>\n",
              "      <td>NaN</td>\n",
              "      <td>NaN</td>\n",
              "      <td>Baratheon</td>\n",
              "      <td>NaN</td>\n",
              "      <td>NaN</td>\n",
              "      <td>NaN</td>\n",
              "      <td>win</td>\n",
              "      <td>ambush</td>\n",
              "      <td>1.0</td>\n",
              "      <td>0.0</td>\n",
              "      <td>NaN</td>\n",
              "      <td>120.0</td>\n",
              "      <td>Gregor Clegane</td>\n",
              "      <td>Beric Dondarrion</td>\n",
              "      <td>1.0</td>\n",
              "      <td>Mummer's Ford</td>\n",
              "      <td>The Riverlands</td>\n",
              "      <td>NaN</td>\n",
              "    </tr>\n",
              "    <tr>\n",
              "      <th>2</th>\n",
              "      <td>Battle of Riverrun</td>\n",
              "      <td>298</td>\n",
              "      <td>3</td>\n",
              "      <td>Joffrey/Tommen Baratheon</td>\n",
              "      <td>Robb Stark</td>\n",
              "      <td>Lannister</td>\n",
              "      <td>NaN</td>\n",
              "      <td>NaN</td>\n",
              "      <td>NaN</td>\n",
              "      <td>Tully</td>\n",
              "      <td>NaN</td>\n",
              "      <td>NaN</td>\n",
              "      <td>NaN</td>\n",
              "      <td>win</td>\n",
              "      <td>pitched battle</td>\n",
              "      <td>0.0</td>\n",
              "      <td>1.0</td>\n",
              "      <td>15000.0</td>\n",
              "      <td>10000.0</td>\n",
              "      <td>Jaime Lannister, Andros Brax</td>\n",
              "      <td>Edmure Tully, Tytos Blackwood</td>\n",
              "      <td>1.0</td>\n",
              "      <td>Riverrun</td>\n",
              "      <td>The Riverlands</td>\n",
              "      <td>NaN</td>\n",
              "    </tr>\n",
              "    <tr>\n",
              "      <th>3</th>\n",
              "      <td>Battle of the Green Fork</td>\n",
              "      <td>298</td>\n",
              "      <td>4</td>\n",
              "      <td>Robb Stark</td>\n",
              "      <td>Joffrey/Tommen Baratheon</td>\n",
              "      <td>Stark</td>\n",
              "      <td>NaN</td>\n",
              "      <td>NaN</td>\n",
              "      <td>NaN</td>\n",
              "      <td>Lannister</td>\n",
              "      <td>NaN</td>\n",
              "      <td>NaN</td>\n",
              "      <td>NaN</td>\n",
              "      <td>loss</td>\n",
              "      <td>pitched battle</td>\n",
              "      <td>1.0</td>\n",
              "      <td>1.0</td>\n",
              "      <td>18000.0</td>\n",
              "      <td>20000.0</td>\n",
              "      <td>Roose Bolton, Wylis Manderly, Medger Cerwyn, H...</td>\n",
              "      <td>Tywin Lannister, Gregor Clegane, Kevan Lannist...</td>\n",
              "      <td>1.0</td>\n",
              "      <td>Green Fork</td>\n",
              "      <td>The Riverlands</td>\n",
              "      <td>NaN</td>\n",
              "    </tr>\n",
              "    <tr>\n",
              "      <th>4</th>\n",
              "      <td>Battle of the Whispering Wood</td>\n",
              "      <td>298</td>\n",
              "      <td>5</td>\n",
              "      <td>Robb Stark</td>\n",
              "      <td>Joffrey/Tommen Baratheon</td>\n",
              "      <td>Stark</td>\n",
              "      <td>Tully</td>\n",
              "      <td>NaN</td>\n",
              "      <td>NaN</td>\n",
              "      <td>Lannister</td>\n",
              "      <td>NaN</td>\n",
              "      <td>NaN</td>\n",
              "      <td>NaN</td>\n",
              "      <td>win</td>\n",
              "      <td>ambush</td>\n",
              "      <td>1.0</td>\n",
              "      <td>1.0</td>\n",
              "      <td>1875.0</td>\n",
              "      <td>6000.0</td>\n",
              "      <td>Robb Stark, Brynden Tully</td>\n",
              "      <td>Jaime Lannister</td>\n",
              "      <td>1.0</td>\n",
              "      <td>Whispering Wood</td>\n",
              "      <td>The Riverlands</td>\n",
              "      <td>NaN</td>\n",
              "    </tr>\n",
              "  </tbody>\n",
              "</table>\n",
              "</div>"
            ],
            "text/plain": [
              "                            name  year  ...           region note\n",
              "0     Battle of the Golden Tooth   298  ...  The Westerlands  NaN\n",
              "1    Battle at the Mummer's Ford   298  ...   The Riverlands  NaN\n",
              "2             Battle of Riverrun   298  ...   The Riverlands  NaN\n",
              "3       Battle of the Green Fork   298  ...   The Riverlands  NaN\n",
              "4  Battle of the Whispering Wood   298  ...   The Riverlands  NaN\n",
              "\n",
              "[5 rows x 25 columns]"
            ]
          },
          "metadata": {
            "tags": []
          },
          "execution_count": 6
        }
      ]
    },
    {
      "cell_type": "code",
      "metadata": {
        "colab": {
          "base_uri": "https://localhost:8080/"
        },
        "id": "0ABNxH1_dh1w",
        "outputId": "5195533c-e3c0-4a70-eecb-cbfe28d67916"
      },
      "source": [
        "battle.shape"
      ],
      "execution_count": null,
      "outputs": [
        {
          "output_type": "execute_result",
          "data": {
            "text/plain": [
              "(38, 25)"
            ]
          },
          "metadata": {
            "tags": []
          },
          "execution_count": 7
        }
      ]
    },
    {
      "cell_type": "code",
      "metadata": {
        "colab": {
          "base_uri": "https://localhost:8080/",
          "height": 428
        },
        "id": "XshtVN2MeV8D",
        "outputId": "939b4559-f70a-46b3-a87e-a2fa2e593010"
      },
      "source": [
        "battle.rename(columns={'attacker_1':'primary attacker'\n",
        "} ,inplace=True)\n",
        "battle.rename(columns={'defender_1':'primary defender'\n",
        "} ,inplace=True)\n",
        "battle.head()"
      ],
      "execution_count": null,
      "outputs": [
        {
          "output_type": "execute_result",
          "data": {
            "text/html": [
              "<div>\n",
              "<style scoped>\n",
              "    .dataframe tbody tr th:only-of-type {\n",
              "        vertical-align: middle;\n",
              "    }\n",
              "\n",
              "    .dataframe tbody tr th {\n",
              "        vertical-align: top;\n",
              "    }\n",
              "\n",
              "    .dataframe thead th {\n",
              "        text-align: right;\n",
              "    }\n",
              "</style>\n",
              "<table border=\"1\" class=\"dataframe\">\n",
              "  <thead>\n",
              "    <tr style=\"text-align: right;\">\n",
              "      <th></th>\n",
              "      <th>name</th>\n",
              "      <th>year</th>\n",
              "      <th>battle_number</th>\n",
              "      <th>attacker_king</th>\n",
              "      <th>defender_king</th>\n",
              "      <th>primary attacker</th>\n",
              "      <th>attacker_2</th>\n",
              "      <th>attacker_3</th>\n",
              "      <th>attacker_4</th>\n",
              "      <th>primary defender</th>\n",
              "      <th>defender_2</th>\n",
              "      <th>defender_3</th>\n",
              "      <th>defender_4</th>\n",
              "      <th>attacker_outcome</th>\n",
              "      <th>battle_type</th>\n",
              "      <th>major_death</th>\n",
              "      <th>major_capture</th>\n",
              "      <th>attacker_size</th>\n",
              "      <th>defender_size</th>\n",
              "      <th>attacker_commander</th>\n",
              "      <th>defender_commander</th>\n",
              "      <th>summer</th>\n",
              "      <th>location</th>\n",
              "      <th>region</th>\n",
              "      <th>note</th>\n",
              "    </tr>\n",
              "  </thead>\n",
              "  <tbody>\n",
              "    <tr>\n",
              "      <th>0</th>\n",
              "      <td>Battle of the Golden Tooth</td>\n",
              "      <td>298</td>\n",
              "      <td>1</td>\n",
              "      <td>Joffrey/Tommen Baratheon</td>\n",
              "      <td>Robb Stark</td>\n",
              "      <td>Lannister</td>\n",
              "      <td>NaN</td>\n",
              "      <td>NaN</td>\n",
              "      <td>NaN</td>\n",
              "      <td>Tully</td>\n",
              "      <td>NaN</td>\n",
              "      <td>NaN</td>\n",
              "      <td>NaN</td>\n",
              "      <td>win</td>\n",
              "      <td>pitched battle</td>\n",
              "      <td>1.0</td>\n",
              "      <td>0.0</td>\n",
              "      <td>15000.0</td>\n",
              "      <td>4000.0</td>\n",
              "      <td>Jaime Lannister</td>\n",
              "      <td>Clement Piper, Vance</td>\n",
              "      <td>1.0</td>\n",
              "      <td>Golden Tooth</td>\n",
              "      <td>The Westerlands</td>\n",
              "      <td>NaN</td>\n",
              "    </tr>\n",
              "    <tr>\n",
              "      <th>1</th>\n",
              "      <td>Battle at the Mummer's Ford</td>\n",
              "      <td>298</td>\n",
              "      <td>2</td>\n",
              "      <td>Joffrey/Tommen Baratheon</td>\n",
              "      <td>Robb Stark</td>\n",
              "      <td>Lannister</td>\n",
              "      <td>NaN</td>\n",
              "      <td>NaN</td>\n",
              "      <td>NaN</td>\n",
              "      <td>Baratheon</td>\n",
              "      <td>NaN</td>\n",
              "      <td>NaN</td>\n",
              "      <td>NaN</td>\n",
              "      <td>win</td>\n",
              "      <td>ambush</td>\n",
              "      <td>1.0</td>\n",
              "      <td>0.0</td>\n",
              "      <td>NaN</td>\n",
              "      <td>120.0</td>\n",
              "      <td>Gregor Clegane</td>\n",
              "      <td>Beric Dondarrion</td>\n",
              "      <td>1.0</td>\n",
              "      <td>Mummer's Ford</td>\n",
              "      <td>The Riverlands</td>\n",
              "      <td>NaN</td>\n",
              "    </tr>\n",
              "    <tr>\n",
              "      <th>2</th>\n",
              "      <td>Battle of Riverrun</td>\n",
              "      <td>298</td>\n",
              "      <td>3</td>\n",
              "      <td>Joffrey/Tommen Baratheon</td>\n",
              "      <td>Robb Stark</td>\n",
              "      <td>Lannister</td>\n",
              "      <td>NaN</td>\n",
              "      <td>NaN</td>\n",
              "      <td>NaN</td>\n",
              "      <td>Tully</td>\n",
              "      <td>NaN</td>\n",
              "      <td>NaN</td>\n",
              "      <td>NaN</td>\n",
              "      <td>win</td>\n",
              "      <td>pitched battle</td>\n",
              "      <td>0.0</td>\n",
              "      <td>1.0</td>\n",
              "      <td>15000.0</td>\n",
              "      <td>10000.0</td>\n",
              "      <td>Jaime Lannister, Andros Brax</td>\n",
              "      <td>Edmure Tully, Tytos Blackwood</td>\n",
              "      <td>1.0</td>\n",
              "      <td>Riverrun</td>\n",
              "      <td>The Riverlands</td>\n",
              "      <td>NaN</td>\n",
              "    </tr>\n",
              "    <tr>\n",
              "      <th>3</th>\n",
              "      <td>Battle of the Green Fork</td>\n",
              "      <td>298</td>\n",
              "      <td>4</td>\n",
              "      <td>Robb Stark</td>\n",
              "      <td>Joffrey/Tommen Baratheon</td>\n",
              "      <td>Stark</td>\n",
              "      <td>NaN</td>\n",
              "      <td>NaN</td>\n",
              "      <td>NaN</td>\n",
              "      <td>Lannister</td>\n",
              "      <td>NaN</td>\n",
              "      <td>NaN</td>\n",
              "      <td>NaN</td>\n",
              "      <td>loss</td>\n",
              "      <td>pitched battle</td>\n",
              "      <td>1.0</td>\n",
              "      <td>1.0</td>\n",
              "      <td>18000.0</td>\n",
              "      <td>20000.0</td>\n",
              "      <td>Roose Bolton, Wylis Manderly, Medger Cerwyn, H...</td>\n",
              "      <td>Tywin Lannister, Gregor Clegane, Kevan Lannist...</td>\n",
              "      <td>1.0</td>\n",
              "      <td>Green Fork</td>\n",
              "      <td>The Riverlands</td>\n",
              "      <td>NaN</td>\n",
              "    </tr>\n",
              "    <tr>\n",
              "      <th>4</th>\n",
              "      <td>Battle of the Whispering Wood</td>\n",
              "      <td>298</td>\n",
              "      <td>5</td>\n",
              "      <td>Robb Stark</td>\n",
              "      <td>Joffrey/Tommen Baratheon</td>\n",
              "      <td>Stark</td>\n",
              "      <td>Tully</td>\n",
              "      <td>NaN</td>\n",
              "      <td>NaN</td>\n",
              "      <td>Lannister</td>\n",
              "      <td>NaN</td>\n",
              "      <td>NaN</td>\n",
              "      <td>NaN</td>\n",
              "      <td>win</td>\n",
              "      <td>ambush</td>\n",
              "      <td>1.0</td>\n",
              "      <td>1.0</td>\n",
              "      <td>1875.0</td>\n",
              "      <td>6000.0</td>\n",
              "      <td>Robb Stark, Brynden Tully</td>\n",
              "      <td>Jaime Lannister</td>\n",
              "      <td>1.0</td>\n",
              "      <td>Whispering Wood</td>\n",
              "      <td>The Riverlands</td>\n",
              "      <td>NaN</td>\n",
              "    </tr>\n",
              "  </tbody>\n",
              "</table>\n",
              "</div>"
            ],
            "text/plain": [
              "                            name  year  ...           region note\n",
              "0     Battle of the Golden Tooth   298  ...  The Westerlands  NaN\n",
              "1    Battle at the Mummer's Ford   298  ...   The Riverlands  NaN\n",
              "2             Battle of Riverrun   298  ...   The Riverlands  NaN\n",
              "3       Battle of the Green Fork   298  ...   The Riverlands  NaN\n",
              "4  Battle of the Whispering Wood   298  ...   The Riverlands  NaN\n",
              "\n",
              "[5 rows x 25 columns]"
            ]
          },
          "metadata": {
            "tags": []
          },
          "execution_count": 10
        }
      ]
    },
    {
      "cell_type": "code",
      "metadata": {
        "colab": {
          "base_uri": "https://localhost:8080/"
        },
        "id": "K_8hsTW4mSIf",
        "outputId": "54a88a1d-6ccc-477a-c16e-51af8495b98e"
      },
      "source": [
        "battle['attacker_king'].value_counts()"
      ],
      "execution_count": null,
      "outputs": [
        {
          "output_type": "execute_result",
          "data": {
            "text/plain": [
              "Joffrey/Tommen Baratheon    14\n",
              "Robb Stark                  10\n",
              "Balon/Euron Greyjoy          7\n",
              "Stannis Baratheon            5\n",
              "Name: attacker_king, dtype: int64"
            ]
          },
          "metadata": {
            "tags": []
          },
          "execution_count": 11
        }
      ]
    },
    {
      "cell_type": "code",
      "metadata": {
        "colab": {
          "base_uri": "https://localhost:8080/"
        },
        "id": "JWchY2MumagD",
        "outputId": "2595ed5d-ab65-4f75-ded4-f1c9d5398c96"
      },
      "source": [
        "battle['defender_king'].value_counts()"
      ],
      "execution_count": null,
      "outputs": [
        {
          "output_type": "execute_result",
          "data": {
            "text/plain": [
              "Robb Stark                  14\n",
              "Joffrey/Tommen Baratheon    13\n",
              "Balon/Euron Greyjoy          4\n",
              "Stannis Baratheon            2\n",
              "Renly Baratheon              1\n",
              "Mance Rayder                 1\n",
              "Name: defender_king, dtype: int64"
            ]
          },
          "metadata": {
            "tags": []
          },
          "execution_count": 12
        }
      ]
    },
    {
      "cell_type": "code",
      "metadata": {
        "colab": {
          "base_uri": "https://localhost:8080/"
        },
        "id": "bQ2bBo_eoPUa",
        "outputId": "31656102-c330-400d-a38d-ff35c5204ef5"
      },
      "source": [
        "battle['location'].value_counts()"
      ],
      "execution_count": null,
      "outputs": [
        {
          "output_type": "execute_result",
          "data": {
            "text/plain": [
              "Winterfell                              3\n",
              "Riverrun                                3\n",
              "Deepwood Motte                          2\n",
              "Torrhen's Square                        2\n",
              "Darry                                   2\n",
              "Harrenhal                               2\n",
              "Moat Cailin                             2\n",
              "Storm's End                             2\n",
              "Dragonstone                             1\n",
              "Whispering Wood                         1\n",
              "Green Fork                              1\n",
              "Saltpans                                1\n",
              "Duskendale                              1\n",
              "Shield Islands                          1\n",
              "Castle Black                            1\n",
              "Ryamsport, Vinetown, Starfish Harbor    1\n",
              "Crag                                    1\n",
              "The Twins                               1\n",
              "Seagard                                 1\n",
              "Red Fork                                1\n",
              "King's Landing                          1\n",
              "Oxcross                                 1\n",
              "Raventree                               1\n",
              "Golden Tooth                            1\n",
              "Ruby Ford                               1\n",
              "Stony Shore                             1\n",
              "Mummer's Ford                           1\n",
              "Name: location, dtype: int64"
            ]
          },
          "metadata": {
            "tags": []
          },
          "execution_count": 13
        }
      ]
    },
    {
      "cell_type": "code",
      "metadata": {
        "id": "8UIvTnQpuoOG"
      },
      "source": [
        "from matplotlib import pyplot as plt\n",
        "import seaborn as sns"
      ],
      "execution_count": null,
      "outputs": []
    },
    {
      "cell_type": "code",
      "metadata": {
        "id": "CfB85qeiw42A",
        "colab": {
          "base_uri": "https://localhost:8080/",
          "height": 411
        },
        "outputId": "01638b43-d8af-4d8a-f3b6-f4f373f51f98"
      },
      "source": [
        "import pandas as pd\n",
        "import numpy as np\n",
        "battle=pd.read_csv('battles.csv')\n",
        "battle.head()"
      ],
      "execution_count": 4,
      "outputs": [
        {
          "output_type": "execute_result",
          "data": {
            "text/html": [
              "<div>\n",
              "<style scoped>\n",
              "    .dataframe tbody tr th:only-of-type {\n",
              "        vertical-align: middle;\n",
              "    }\n",
              "\n",
              "    .dataframe tbody tr th {\n",
              "        vertical-align: top;\n",
              "    }\n",
              "\n",
              "    .dataframe thead th {\n",
              "        text-align: right;\n",
              "    }\n",
              "</style>\n",
              "<table border=\"1\" class=\"dataframe\">\n",
              "  <thead>\n",
              "    <tr style=\"text-align: right;\">\n",
              "      <th></th>\n",
              "      <th>name</th>\n",
              "      <th>year</th>\n",
              "      <th>battle_number</th>\n",
              "      <th>attacker_king</th>\n",
              "      <th>defender_king</th>\n",
              "      <th>attacker_1</th>\n",
              "      <th>attacker_2</th>\n",
              "      <th>attacker_3</th>\n",
              "      <th>attacker_4</th>\n",
              "      <th>defender_1</th>\n",
              "      <th>defender_2</th>\n",
              "      <th>defender_3</th>\n",
              "      <th>defender_4</th>\n",
              "      <th>attacker_outcome</th>\n",
              "      <th>battle_type</th>\n",
              "      <th>major_death</th>\n",
              "      <th>major_capture</th>\n",
              "      <th>attacker_size</th>\n",
              "      <th>defender_size</th>\n",
              "      <th>attacker_commander</th>\n",
              "      <th>defender_commander</th>\n",
              "      <th>summer</th>\n",
              "      <th>location</th>\n",
              "      <th>region</th>\n",
              "      <th>note</th>\n",
              "    </tr>\n",
              "  </thead>\n",
              "  <tbody>\n",
              "    <tr>\n",
              "      <th>0</th>\n",
              "      <td>Battle of the Golden Tooth</td>\n",
              "      <td>298</td>\n",
              "      <td>1</td>\n",
              "      <td>Joffrey/Tommen Baratheon</td>\n",
              "      <td>Robb Stark</td>\n",
              "      <td>Lannister</td>\n",
              "      <td>NaN</td>\n",
              "      <td>NaN</td>\n",
              "      <td>NaN</td>\n",
              "      <td>Tully</td>\n",
              "      <td>NaN</td>\n",
              "      <td>NaN</td>\n",
              "      <td>NaN</td>\n",
              "      <td>win</td>\n",
              "      <td>pitched battle</td>\n",
              "      <td>1.0</td>\n",
              "      <td>0.0</td>\n",
              "      <td>15000.0</td>\n",
              "      <td>4000.0</td>\n",
              "      <td>Jaime Lannister</td>\n",
              "      <td>Clement Piper, Vance</td>\n",
              "      <td>1.0</td>\n",
              "      <td>Golden Tooth</td>\n",
              "      <td>The Westerlands</td>\n",
              "      <td>NaN</td>\n",
              "    </tr>\n",
              "    <tr>\n",
              "      <th>1</th>\n",
              "      <td>Battle at the Mummer's Ford</td>\n",
              "      <td>298</td>\n",
              "      <td>2</td>\n",
              "      <td>Joffrey/Tommen Baratheon</td>\n",
              "      <td>Robb Stark</td>\n",
              "      <td>Lannister</td>\n",
              "      <td>NaN</td>\n",
              "      <td>NaN</td>\n",
              "      <td>NaN</td>\n",
              "      <td>Baratheon</td>\n",
              "      <td>NaN</td>\n",
              "      <td>NaN</td>\n",
              "      <td>NaN</td>\n",
              "      <td>win</td>\n",
              "      <td>ambush</td>\n",
              "      <td>1.0</td>\n",
              "      <td>0.0</td>\n",
              "      <td>NaN</td>\n",
              "      <td>120.0</td>\n",
              "      <td>Gregor Clegane</td>\n",
              "      <td>Beric Dondarrion</td>\n",
              "      <td>1.0</td>\n",
              "      <td>Mummer's Ford</td>\n",
              "      <td>The Riverlands</td>\n",
              "      <td>NaN</td>\n",
              "    </tr>\n",
              "    <tr>\n",
              "      <th>2</th>\n",
              "      <td>Battle of Riverrun</td>\n",
              "      <td>298</td>\n",
              "      <td>3</td>\n",
              "      <td>Joffrey/Tommen Baratheon</td>\n",
              "      <td>Robb Stark</td>\n",
              "      <td>Lannister</td>\n",
              "      <td>NaN</td>\n",
              "      <td>NaN</td>\n",
              "      <td>NaN</td>\n",
              "      <td>Tully</td>\n",
              "      <td>NaN</td>\n",
              "      <td>NaN</td>\n",
              "      <td>NaN</td>\n",
              "      <td>win</td>\n",
              "      <td>pitched battle</td>\n",
              "      <td>0.0</td>\n",
              "      <td>1.0</td>\n",
              "      <td>15000.0</td>\n",
              "      <td>10000.0</td>\n",
              "      <td>Jaime Lannister, Andros Brax</td>\n",
              "      <td>Edmure Tully, Tytos Blackwood</td>\n",
              "      <td>1.0</td>\n",
              "      <td>Riverrun</td>\n",
              "      <td>The Riverlands</td>\n",
              "      <td>NaN</td>\n",
              "    </tr>\n",
              "    <tr>\n",
              "      <th>3</th>\n",
              "      <td>Battle of the Green Fork</td>\n",
              "      <td>298</td>\n",
              "      <td>4</td>\n",
              "      <td>Robb Stark</td>\n",
              "      <td>Joffrey/Tommen Baratheon</td>\n",
              "      <td>Stark</td>\n",
              "      <td>NaN</td>\n",
              "      <td>NaN</td>\n",
              "      <td>NaN</td>\n",
              "      <td>Lannister</td>\n",
              "      <td>NaN</td>\n",
              "      <td>NaN</td>\n",
              "      <td>NaN</td>\n",
              "      <td>loss</td>\n",
              "      <td>pitched battle</td>\n",
              "      <td>1.0</td>\n",
              "      <td>1.0</td>\n",
              "      <td>18000.0</td>\n",
              "      <td>20000.0</td>\n",
              "      <td>Roose Bolton, Wylis Manderly, Medger Cerwyn, H...</td>\n",
              "      <td>Tywin Lannister, Gregor Clegane, Kevan Lannist...</td>\n",
              "      <td>1.0</td>\n",
              "      <td>Green Fork</td>\n",
              "      <td>The Riverlands</td>\n",
              "      <td>NaN</td>\n",
              "    </tr>\n",
              "    <tr>\n",
              "      <th>4</th>\n",
              "      <td>Battle of the Whispering Wood</td>\n",
              "      <td>298</td>\n",
              "      <td>5</td>\n",
              "      <td>Robb Stark</td>\n",
              "      <td>Joffrey/Tommen Baratheon</td>\n",
              "      <td>Stark</td>\n",
              "      <td>Tully</td>\n",
              "      <td>NaN</td>\n",
              "      <td>NaN</td>\n",
              "      <td>Lannister</td>\n",
              "      <td>NaN</td>\n",
              "      <td>NaN</td>\n",
              "      <td>NaN</td>\n",
              "      <td>win</td>\n",
              "      <td>ambush</td>\n",
              "      <td>1.0</td>\n",
              "      <td>1.0</td>\n",
              "      <td>1875.0</td>\n",
              "      <td>6000.0</td>\n",
              "      <td>Robb Stark, Brynden Tully</td>\n",
              "      <td>Jaime Lannister</td>\n",
              "      <td>1.0</td>\n",
              "      <td>Whispering Wood</td>\n",
              "      <td>The Riverlands</td>\n",
              "      <td>NaN</td>\n",
              "    </tr>\n",
              "  </tbody>\n",
              "</table>\n",
              "</div>"
            ],
            "text/plain": [
              "                            name  year  ...           region note\n",
              "0     Battle of the Golden Tooth   298  ...  The Westerlands  NaN\n",
              "1    Battle at the Mummer's Ford   298  ...   The Riverlands  NaN\n",
              "2             Battle of Riverrun   298  ...   The Riverlands  NaN\n",
              "3       Battle of the Green Fork   298  ...   The Riverlands  NaN\n",
              "4  Battle of the Whispering Wood   298  ...   The Riverlands  NaN\n",
              "\n",
              "[5 rows x 25 columns]"
            ]
          },
          "metadata": {
            "tags": []
          },
          "execution_count": 4
        }
      ]
    },
    {
      "cell_type": "code",
      "metadata": {
        "id": "V5aWcP4adQRz"
      },
      "source": [
        "from matplotlib import pyplot as plt\n",
        "import seaborn as sns"
      ],
      "execution_count": 6,
      "outputs": []
    },
    {
      "cell_type": "code",
      "metadata": {
        "colab": {
          "base_uri": "https://localhost:8080/",
          "height": 339
        },
        "id": "iy6QNsi4dXxF",
        "outputId": "ce1e0ceb-e629-47cf-8e3a-e457a2a73f85"
      },
      "source": [
        "# ATTACKER KING AND THEIR SIZE\n",
        "sns.set(rc={'figure.figsize':(13,5)})\n",
        "sns.barplot(x='attacker_king',y='attacker_size',data=battle)\n",
        "plt.show()\n"
      ],
      "execution_count": 8,
      "outputs": [
        {
          "output_type": "display_data",
          "data": {
            "image/png": "[encoded data removed]",
            "text/plain": [
              "<Figure size 936x360 with 1 Axes>"
            ]
          },
          "metadata": {
            "tags": []
          }
        }
      ]
    },
    {
      "cell_type": "code",
      "metadata": {
        "colab": {
          "base_uri": "https://localhost:8080/",
          "height": 339
        },
        "id": "5exSAURUfCMP",
        "outputId": "6f9bb142-b572-415c-b93b-567f4fee113d"
      },
      "source": [
        "# DEFENDER KING AND THEIR SIZE\n",
        "sns.set(rc={'figure.figsize':(13,5)})\n",
        "sns.barplot(x='defender_king',y='defender_size',data=battle)\n",
        "plt.show()"
      ],
      "execution_count": 9,
      "outputs": [
        {
          "output_type": "display_data",
          "data": {
            "image/png": "[encoded data removed]",
            "text/plain": [
              "<Figure size 936x360 with 1 Axes>"
            ]
          },
          "metadata": {
            "tags": []
          }
        }
      ]
    },
    {
      "cell_type": "code",
      "metadata": {
        "colab": {
          "base_uri": "https://localhost:8080/",
          "height": 339
        },
        "id": "J2N1-ioGfUmD",
        "outputId": "4b32a362-83e8-4e1c-ecf5-2a52769f1d22"
      },
      "source": [
        "sns.countplot(x='attacker_king',hue='battle_type',data=battle)\n",
        "plt.show()"
      ],
      "execution_count": 16,
      "outputs": [
        {
          "output_type": "display_data",
          "data": {
            "image/png": "[encoded data removed]",
            "text/plain": [
              "<Figure size 936x360 with 1 Axes>"
            ]
          },
          "metadata": {
            "tags": []
          }
        }
      ]
    },
    {
      "cell_type": "code",
      "metadata": {
        "id": "BdoAKeDLqJrN"
      },
      "source": [
        "death=pd.read_csv('character-deaths.csv')"
      ],
      "execution_count": 17,
      "outputs": []
    },
    {
      "cell_type": "code",
      "metadata": {
        "colab": {
          "base_uri": "https://localhost:8080/",
          "height": 306
        },
        "id": "B1-c2yliqm7q",
        "outputId": "1da303e1-51e3-4378-abce-e8ab6eba1c98"
      },
      "source": [
        "death.head()\n",
        "# death.shape"
      ],
      "execution_count": 20,
      "outputs": [
        {
          "output_type": "execute_result",
          "data": {
            "text/html": [
              "<div>\n",
              "<style scoped>\n",
              "    .dataframe tbody tr th:only-of-type {\n",
              "        vertical-align: middle;\n",
              "    }\n",
              "\n",
              "    .dataframe tbody tr th {\n",
              "        vertical-align: top;\n",
              "    }\n",
              "\n",
              "    .dataframe thead th {\n",
              "        text-align: right;\n",
              "    }\n",
              "</style>\n",
              "<table border=\"1\" class=\"dataframe\">\n",
              "  <thead>\n",
              "    <tr style=\"text-align: right;\">\n",
              "      <th></th>\n",
              "      <th>Name</th>\n",
              "      <th>Allegiances</th>\n",
              "      <th>Death Year</th>\n",
              "      <th>Book of Death</th>\n",
              "      <th>Death Chapter</th>\n",
              "      <th>Book Intro Chapter</th>\n",
              "      <th>Gender</th>\n",
              "      <th>Nobility</th>\n",
              "      <th>GoT</th>\n",
              "      <th>CoK</th>\n",
              "      <th>SoS</th>\n",
              "      <th>FfC</th>\n",
              "      <th>DwD</th>\n",
              "    </tr>\n",
              "  </thead>\n",
              "  <tbody>\n",
              "    <tr>\n",
              "      <th>0</th>\n",
              "      <td>Addam Marbrand</td>\n",
              "      <td>Lannister</td>\n",
              "      <td>NaN</td>\n",
              "      <td>NaN</td>\n",
              "      <td>NaN</td>\n",
              "      <td>56.0</td>\n",
              "      <td>1</td>\n",
              "      <td>1</td>\n",
              "      <td>1</td>\n",
              "      <td>1</td>\n",
              "      <td>1</td>\n",
              "      <td>1</td>\n",
              "      <td>0</td>\n",
              "    </tr>\n",
              "    <tr>\n",
              "      <th>1</th>\n",
              "      <td>Aegon Frey (Jinglebell)</td>\n",
              "      <td>None</td>\n",
              "      <td>299.0</td>\n",
              "      <td>3.0</td>\n",
              "      <td>51.0</td>\n",
              "      <td>49.0</td>\n",
              "      <td>1</td>\n",
              "      <td>1</td>\n",
              "      <td>0</td>\n",
              "      <td>0</td>\n",
              "      <td>1</td>\n",
              "      <td>0</td>\n",
              "      <td>0</td>\n",
              "    </tr>\n",
              "    <tr>\n",
              "      <th>2</th>\n",
              "      <td>Aegon Targaryen</td>\n",
              "      <td>House Targaryen</td>\n",
              "      <td>NaN</td>\n",
              "      <td>NaN</td>\n",
              "      <td>NaN</td>\n",
              "      <td>5.0</td>\n",
              "      <td>1</td>\n",
              "      <td>1</td>\n",
              "      <td>0</td>\n",
              "      <td>0</td>\n",
              "      <td>0</td>\n",
              "      <td>0</td>\n",
              "      <td>1</td>\n",
              "    </tr>\n",
              "    <tr>\n",
              "      <th>3</th>\n",
              "      <td>Adrack Humble</td>\n",
              "      <td>House Greyjoy</td>\n",
              "      <td>300.0</td>\n",
              "      <td>5.0</td>\n",
              "      <td>20.0</td>\n",
              "      <td>20.0</td>\n",
              "      <td>1</td>\n",
              "      <td>1</td>\n",
              "      <td>0</td>\n",
              "      <td>0</td>\n",
              "      <td>0</td>\n",
              "      <td>0</td>\n",
              "      <td>1</td>\n",
              "    </tr>\n",
              "    <tr>\n",
              "      <th>4</th>\n",
              "      <td>Aemon Costayne</td>\n",
              "      <td>Lannister</td>\n",
              "      <td>NaN</td>\n",
              "      <td>NaN</td>\n",
              "      <td>NaN</td>\n",
              "      <td>NaN</td>\n",
              "      <td>1</td>\n",
              "      <td>1</td>\n",
              "      <td>0</td>\n",
              "      <td>0</td>\n",
              "      <td>1</td>\n",
              "      <td>0</td>\n",
              "      <td>0</td>\n",
              "    </tr>\n",
              "  </tbody>\n",
              "</table>\n",
              "</div>"
            ],
            "text/plain": [
              "                      Name      Allegiances  Death Year  ...  SoS  FfC  DwD\n",
              "0           Addam Marbrand        Lannister         NaN  ...    1    1    0\n",
              "1  Aegon Frey (Jinglebell)             None       299.0  ...    1    0    0\n",
              "2          Aegon Targaryen  House Targaryen         NaN  ...    0    0    1\n",
              "3            Adrack Humble    House Greyjoy       300.0  ...    0    0    1\n",
              "4           Aemon Costayne        Lannister         NaN  ...    1    0    0\n",
              "\n",
              "[5 rows x 13 columns]"
            ]
          },
          "metadata": {
            "tags": []
          },
          "execution_count": 20
        }
      ]
    },
    {
      "cell_type": "code",
      "metadata": {
        "colab": {
          "base_uri": "https://localhost:8080/"
        },
        "id": "RT4D_zwjrPX3",
        "outputId": "62a86ca5-ccfc-4414-d85b-996d328d8064"
      },
      "source": [
        "death['Gender'].value_counts()"
      ],
      "execution_count": 23,
      "outputs": [
        {
          "output_type": "execute_result",
          "data": {
            "text/plain": [
              "1    760\n",
              "0    157\n",
              "Name: Gender, dtype: int64"
            ]
          },
          "metadata": {
            "tags": []
          },
          "execution_count": 23
        }
      ]
    },
    {
      "cell_type": "code",
      "metadata": {
        "colab": {
          "base_uri": "https://localhost:8080/"
        },
        "id": "O_oHXa18rf57",
        "outputId": "db230849-02ee-49ae-ec09-14726a7e3c38"
      },
      "source": [
        "death['Nobility'].value_counts()"
      ],
      "execution_count": 24,
      "outputs": [
        {
          "output_type": "execute_result",
          "data": {
            "text/plain": [
              "0    487\n",
              "1    430\n",
              "Name: Nobility, dtype: int64"
            ]
          },
          "metadata": {
            "tags": []
          },
          "execution_count": 24
        }
      ]
    },
    {
      "cell_type": "code",
      "metadata": {
        "colab": {
          "base_uri": "https://localhost:8080/",
          "height": 393
        },
        "id": "1j1ijWz5ri2k",
        "outputId": "23e33525-dd22-4cfd-8242-e1f0cc742b89"
      },
      "source": [
        "# sns.countplot(x='Allegiances',hue='Book of Death',data=death)\n",
        "sns.countplot(death['Death Year'])\n",
        "plt.show()"
      ],
      "execution_count": 29,
      "outputs": [
        {
          "output_type": "stream",
          "text": [
            "/usr/local/lib/python3.7/dist-packages/seaborn/_decorators.py:43: FutureWarning: Pass the following variable as a keyword arg: x. From version 0.12, the only valid positional argument will be `data`, and passing other arguments without an explicit keyword will result in an error or misinterpretation.\n",
            "  FutureWarning\n"
          ],
          "name": "stderr"
        },
        {
          "output_type": "display_data",
          "data": {
            "image/png": "[encoded data removed]",
            "text/plain": [
              "<Figure size 936x360 with 1 Axes>"
            ]
          },
          "metadata": {
            "tags": []
          }
        }
      ]
    },
    {
      "cell_type": "code",
      "metadata": {
        "colab": {
          "base_uri": "https://localhost:8080/",
          "height": 392
        },
        "id": "Xu03zI-pulrn",
        "outputId": "be579ff4-65dd-463c-d77c-923b51b15dfb"
      },
      "source": [
        "sns.set(rc={'figure.figsize':(30,10)})\n",
        "sns.countplot(death['Allegiances'])\n",
        "plt.show()"
      ],
      "execution_count": 30,
      "outputs": [
        {
          "output_type": "stream",
          "text": [
            "/usr/local/lib/python3.7/dist-packages/seaborn/_decorators.py:43: FutureWarning: Pass the following variable as a keyword arg: x. From version 0.12, the only valid positional argument will be `data`, and passing other arguments without an explicit keyword will result in an error or misinterpretation.\n",
            "  FutureWarning\n"
          ],
          "name": "stderr"
        },
        {
          "output_type": "display_data",
          "data": {
            "image/png": "[encoded data removed]",
            "text/plain": [
              "<Figure size 2160x720 with 1 Axes>"
            ]
          },
          "metadata": {
            "tags": []
          }
        }
      ]
    }
  ]
}